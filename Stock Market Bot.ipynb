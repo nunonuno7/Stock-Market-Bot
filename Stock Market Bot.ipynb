{
 "cells": [
  {
   "cell_type": "code",
   "execution_count": 1,
   "metadata": {},
   "outputs": [],
   "source": [
    "import numpy as np\n",
    "from market import market\n",
    "import pandas as pd\n",
    "from randomAgent import Agent\n",
    "import itertools\n",
    "from IPython.display import display\n",
    "import matplotlib.pyplot as plt"
   ]
  },
  {
   "cell_type": "code",
   "execution_count": 2,
   "metadata": {},
   "outputs": [],
   "source": [
    "class linearRegression:\n",
    "    \n",
    "    def __init__(self, dim):\n",
    "        self.W = np.random.randn(dim[0],dim[1])\n",
    "        self.b = np.zeros(dim[1])\n",
    "        self.historical_cost = []\n",
    "        \n",
    "    def train(self, X, Y, learning_rate=0.001):\n",
    "\n",
    "        # Normalize \n",
    "        X_norm = (X - X.mean()) / X.std()\n",
    "        Y_norm = (Y - Y.mean()) / Y.std()\n",
    "\n",
    "        # Make predictions and calculate gradients\n",
    "        pred = self.predict(X_norm)\n",
    "        n_val = np.prod(Y_norm.shape)\n",
    "        gW = 2 * X_norm.T.dot(pred - Y_norm) / n_val\n",
    "        gb = 2 * (pred - Y_norm).sum(axis=0) / n_val\n",
    "\n",
    "        # Update weights and biases\n",
    "        self.W -= learning_rate * gW\n",
    "        self.b -= learning_rate * gb\n",
    "\n",
    "        # Calculate prediction error and add to historical cost\n",
    "        self.prediction_error = np.mean((pred - Y_norm)**2)\n",
    "        self.historical_cost.append(self.prediction_error)\n",
    "\n",
    "         \n",
    "    def predict(self,X):\n",
    "        return X.dot(self.W) + self.b\n",
    "\n"
   ]
  },
  {
   "cell_type": "code",
   "execution_count": 3,
   "metadata": {},
   "outputs": [],
   "source": [
    "class SmartAgent:\n",
    "    \n",
    "    def __init__(self, dim):\n",
    "        self.model = linearRegression((dim))\n",
    "    \n",
    "    def get_action(self, x):\n",
    "        pred = self.model.predict(x)\n",
    "        action = np.argmax(pred)\n",
    "        return action\n"
   ]
  },
  {
   "cell_type": "code",
   "execution_count": 4,
   "metadata": {},
   "outputs": [
    {
     "data": {
      "text/plain": [
       "6352"
      ]
     },
     "execution_count": 4,
     "metadata": {},
     "output_type": "execute_result"
    }
   ],
   "source": [
    "env = market(['AAPL','MSFT'])\n",
    "env.total_days\n",
    "dados_treino = int((env.total_days*0.7))\n",
    "dados_treino"
   ]
  },
  {
   "cell_type": "code",
   "execution_count": 5,
   "metadata": {},
   "outputs": [
    {
     "data": {
      "text/plain": [
       "2722"
      ]
     },
     "execution_count": 5,
     "metadata": {},
     "output_type": "execute_result"
    }
   ],
   "source": [
    "train_env =  market(['AAPL','MSFT'] , start_row=0, end_row=dados_treino)\n",
    "test_env =  market(['AAPL','MSFT'] , start_row=dados_treino+1)\n",
    "train_env.total_days\n",
    "test_env.total_days"
   ]
  },
  {
   "cell_type": "code",
   "execution_count": 6,
   "metadata": {},
   "outputs": [],
   "source": [
    "dim = np.array([env.state_size,len(env.action_list)])\n",
    "smartagent = SmartAgent(dim)\n",
    "randomagent = Agent(len(test_env.index_actions))"
   ]
  },
  {
   "cell_type": "code",
   "execution_count": 7,
   "metadata": {},
   "outputs": [],
   "source": [
    "def train(agent, market , itr):\n",
    "\n",
    "    for i in range(itr):\n",
    "\n",
    "        state = market.start()\n",
    "        done = False\n",
    "        x = np.array([market._get_state()])\n",
    "        v_capital = market.get_episode_value()\n",
    "\n",
    "        while not done:\n",
    "            valores_estimados = agent.model.predict(x)\n",
    "            action = agent.get_action(x)\n",
    "            #r = v_capital - valores_estimados[0][action]\n",
    "            valores_estimados[0][action] = v_capital\n",
    "            agent.model.train(x, valores_estimados)\n",
    "            #print(f\"Day: {market.today} // state: {market._get_state()} // Ação {action} // {market.get_episode_value()}\")\n",
    "            #print(f\"Day: {market.today} // Ação {action} // {smartagent.model.prediction_error}\")\n",
    "            smartagent.model.historical_cost\n",
    "            next_state, reward, done = market.new_day(action)\n",
    "            state = next_state\n",
    "            v_capital = market.get_episode_value()\n",
    "            x = np.array([market._get_state()])\n",
    "\n",
    "    return market.get_episode_value()"
   ]
  },
  {
   "cell_type": "code",
   "execution_count": 8,
   "metadata": {},
   "outputs": [
    {
     "data": {
      "text/plain": [
       "1040742.7292852177"
      ]
     },
     "execution_count": 8,
     "metadata": {},
     "output_type": "execute_result"
    }
   ],
   "source": [
    "train(smartagent,train_env,1)"
   ]
  },
  {
   "cell_type": "code",
   "execution_count": 9,
   "metadata": {},
   "outputs": [],
   "source": [
    "def play_episode(agent,market):\n",
    "\n",
    "    state = market.start()\n",
    "    done = False\n",
    "    x = np.array([market._get_state()])\n",
    "  \n",
    "    while not done:\n",
    "    \n",
    "        action = agent.get_action(x)\n",
    "        #print(f\"Day: {market.today} // state: {market._get_state()} // Ação {action} // {market.get_episode_value()}\")\n",
    "        next_state, reward, done = market.new_day(action)\n",
    "        state = next_state\n",
    "        x = np.array([market._get_state()])\n",
    "\n",
    "    return market.get_episode_value()"
   ]
  },
  {
   "cell_type": "code",
   "execution_count": 10,
   "metadata": {},
   "outputs": [
    {
     "data": {
      "text/plain": [
       "126139.726313591"
      ]
     },
     "execution_count": 10,
     "metadata": {},
     "output_type": "execute_result"
    }
   ],
   "source": [
    "capital_acoes_smart = play_episode(smartagent,test_env)\n",
    "capital_acoes_smart"
   ]
  },
  {
   "cell_type": "code",
   "execution_count": 11,
   "metadata": {},
   "outputs": [],
   "source": [
    "def play_random_episode(agent,market):\n",
    "    state = market.start()\n",
    "    done = False\n",
    "\n",
    "    while not done:\n",
    "        action = agent.act(state)\n",
    "        next_state, reward, done = market.new_day(action)\n",
    "        state = next_state\n",
    "        market.get_episode_value()\n",
    "\n",
    "    return market.get_episode_value()"
   ]
  },
  {
   "cell_type": "code",
   "execution_count": 12,
   "metadata": {},
   "outputs": [],
   "source": [
    "resultado=0\n",
    "loops = 300\n",
    "for i in range(loops):\n",
    "    capital_acoes_aleatorias = play_random_episode(randomagent,test_env)\n",
    "    resultado += capital_acoes_aleatorias\n",
    "    if capital_acoes_aleatorias>resultado:\n",
    "        resultado=capital_acoes_aleatorias\n",
    "  \n",
    "media_resultado = resultado/loops  "
   ]
  },
  {
   "cell_type": "code",
   "execution_count": 13,
   "metadata": {},
   "outputs": [
    {
     "name": "stdout",
     "output_type": "stream",
     "text": [
      "Tivemos um resultado 2.17x melhor (+117 %)\n"
     ]
    }
   ],
   "source": [
    "#print(f'Tivemos um resultado {round((capital_acoes_smart-media_resultado)/media_resultado*100,)} % melhor')\n",
    "print(f'Tivemos um resultado {round((capital_acoes_smart/media_resultado),2)}x melhor (+{round((capital_acoes_smart-media_resultado)/media_resultado*100,)} %)')"
   ]
  },
  {
   "cell_type": "code",
   "execution_count": 14,
   "metadata": {},
   "outputs": [
    {
     "data": {
      "image/png": "[encoded data removed]",
      "text/plain": [
       "<Figure size 432x288 with 1 Axes>"
      ]
     },
     "metadata": {
      "needs_background": "light"
     },
     "output_type": "display_data"
    }
   ],
   "source": [
    "time_steps = range(len(smartagent.model.historical_cost))\n",
    "plt.plot(time_steps, smartagent.model.historical_cost)\n",
    "plt.xlabel('Time step')\n",
    "plt.ylabel('Prediction error')\n",
    "plt.title('Evolution of prediction error over time')\n",
    "plt.show()"
   ]
  }
 ],
 "metadata": {
  "kernelspec": {
   "display_name": "base",
   "language": "python",
   "name": "python3"
  },
  "language_info": {
   "codemirror_mode": {
    "name": "ipython",
    "version": 3
   },
   "file_extension": ".py",
   "mimetype": "text/x-python",
   "name": "python",
   "nbconvert_exporter": "python",
   "pygments_lexer": "ipython3",
   "version": "3.9.12"
  },
  "orig_nbformat": 4
 },
 "nbformat": 4,
 "nbformat_minor": 2
}
